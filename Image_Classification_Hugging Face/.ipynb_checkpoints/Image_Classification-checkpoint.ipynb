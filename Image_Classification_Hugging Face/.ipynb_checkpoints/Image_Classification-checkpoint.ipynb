{
 "cells": [
  {
   "cell_type": "markdown",
   "id": "e9b4cc1c",
   "metadata": {},
   "source": [
    "Image Classification using Hugging Face"
   ]
  },
  {
   "cell_type": "code",
   "execution_count": 74,
   "id": "6dc8318a",
   "metadata": {},
   "outputs": [
    {
     "name": "stdout",
     "output_type": "stream",
     "text": [
      "{'pixel_values': tensor([[[[ 0.9059,  0.9059,  0.9137,  ...,  0.9451,  0.9451,  0.9451],\n",
      "          [ 0.9216,  0.9137,  0.9137,  ...,  0.9529,  0.9529,  0.9451],\n",
      "          [ 0.9137,  0.9137,  0.9137,  ...,  0.9529,  0.9451,  0.9451],\n",
      "          ...,\n",
      "          [ 0.8824,  0.8824,  0.8902,  ..., -0.3647, -0.6392, -0.6863],\n",
      "          [ 0.8824,  0.8902,  0.8902,  ...,  0.3569, -0.0824, -0.5608],\n",
      "          [ 0.8745,  0.8745,  0.8902,  ...,  0.4588,  0.4039,  0.1765]],\n",
      "\n",
      "         [[ 0.9451,  0.9451,  0.9373,  ...,  0.9608,  0.9608,  0.9608],\n",
      "          [ 0.9373,  0.9373,  0.9373,  ...,  0.9608,  0.9529,  0.9608],\n",
      "          [ 0.9373,  0.9373,  0.9373,  ...,  0.9608,  0.9608,  0.9608],\n",
      "          ...,\n",
      "          [ 0.9137,  0.9137,  0.9137,  ..., -0.3490, -0.6314, -0.6784],\n",
      "          [ 0.9059,  0.9216,  0.9216,  ...,  0.3725, -0.0667, -0.5608],\n",
      "          [ 0.9137,  0.9137,  0.9137,  ...,  0.4745,  0.4275,  0.1922]],\n",
      "\n",
      "         [[ 0.9216,  0.9216,  0.9294,  ...,  0.9373,  0.9373,  0.9373],\n",
      "          [ 0.9294,  0.9294,  0.9294,  ...,  0.9373,  0.9373,  0.9373],\n",
      "          [ 0.9294,  0.9216,  0.9294,  ...,  0.9373,  0.9373,  0.9373],\n",
      "          ...,\n",
      "          [ 0.9059,  0.9059,  0.9137,  ..., -0.3725, -0.6471, -0.6863],\n",
      "          [ 0.9137,  0.9137,  0.9137,  ...,  0.3490, -0.0902, -0.5765],\n",
      "          [ 0.9059,  0.9059,  0.9137,  ...,  0.4588,  0.3961,  0.1765]]]])}\n",
      "torch.Size([1, 1000])\n",
      "Predicted class: remote control, remote\n"
     ]
    }
   ],
   "source": [
    "from transformers import ViTImageProcessor, ViTForImageClassification\n",
    "from PIL import Image\n",
    "import requests\n",
    "import matplotlib.pyplot as plt\n",
    "image = Image.open('photo.jpg')\n",
    "processor = ViTImageProcessor.from_pretrained('google/vit-base-patch16-224')\n",
    "model = ViTForImageClassification.from_pretrained('google/vit-base-patch16-224')\n",
    "\n",
    "inputs = processor(images=image, return_tensors=\"pt\")\n",
    "\n",
    "print(inputs)\n",
    "pixel_values = inputs['pixel_values']\n",
    "outputs = model(pixel_values)\n",
    "logits = outputs.logits\n",
    "\n",
    "print(logits.shape)\n",
    "\n",
    "# model predicts one of the 1000 ImageNet classes\n",
    "predicted_class_idx = logits.argmax(-1).item()\n",
    "print(\"Predicted class:\", model.config.id2label[predicted_class_idx])"
   ]
  },
  {
   "cell_type": "markdown",
   "id": "b7355360",
   "metadata": {},
   "source": [
    "Zero Shot Image Classification"
   ]
  },
  {
   "cell_type": "code",
   "execution_count": 75,
   "id": "1cadd17b",
   "metadata": {},
   "outputs": [
    {
     "name": "stdout",
     "output_type": "stream",
     "text": [
      "tensor([[0.0906, 0.0120, 0.8975]], grad_fn=<SoftmaxBackward0>)\n"
     ]
    }
   ],
   "source": [
    "from PIL import Image\n",
    "import requests\n",
    "\n",
    "from transformers import CLIPProcessor, CLIPModel\n",
    "\n",
    "model = CLIPModel.from_pretrained(\"openai/clip-vit-large-patch14\")\n",
    "processor = CLIPProcessor.from_pretrained(\"openai/clip-vit-large-patch14\")\n",
    "\n",
    "image = Image.open('photo.jpg')\n",
    "\n",
    "inputs = processor(text=[\"remote\", \"radio\",\"phone\"], images=image, return_tensors=\"pt\", padding=True)\n",
    "\n",
    "outputs = model(**inputs)\n",
    "logits_per_image = outputs.logits_per_image # this is the image-text similarity score\n",
    "probs = logits_per_image.softmax(dim=1) # we can take the softmax to get the label probabilities\n",
    "print(probs)"
   ]
  },
  {
   "cell_type": "markdown",
   "id": "2f5487ac",
   "metadata": {},
   "source": [
    "Zero Shot Object Detection"
   ]
  },
  {
   "cell_type": "code",
   "execution_count": 76,
   "id": "eec9d50a",
   "metadata": {},
   "outputs": [
    {
     "name": "stdout",
     "output_type": "stream",
     "text": [
      "Detected flower with confidence 0.222 at location [1.59, 274.93, 411.15, 967.19]\n"
     ]
    }
   ],
   "source": [
    "import requests\n",
    "from PIL import Image\n",
    "import numpy as np\n",
    "import torch\n",
    "from transformers import AutoProcessor, Owlv2ForObjectDetection\n",
    "from transformers.utils.constants import OPENAI_CLIP_MEAN, OPENAI_CLIP_STD\n",
    "\n",
    "processor = AutoProcessor.from_pretrained(\"google/owlv2-base-patch16-ensemble\")\n",
    "model = Owlv2ForObjectDetection.from_pretrained(\"google/owlv2-base-patch16-ensemble\")\n",
    "\n",
    "\n",
    "image = Image.open('Image.jpg')\n",
    "texts = [[\"a photo of a cat\", \"a photo of a dog\",\"phone\",\"flower\",\"alien\"]]\n",
    "inputs = processor(text=texts, images=image, return_tensors=\"pt\")\n",
    "\n",
    "# forward pass\n",
    "with torch.no_grad():\n",
    "    outputs = model(**inputs)\n",
    "\n",
    "# Note: boxes need to be visualized on the padded, unnormalized image\n",
    "# hence we'll set the target image sizes (height, width) based on that\n",
    "\n",
    "def get_preprocessed_image(pixel_values):\n",
    "    pixel_values = pixel_values.squeeze().numpy()\n",
    "    unnormalized_image = (pixel_values * np.array(OPENAI_CLIP_STD)[:, None, None]) + np.array(OPENAI_CLIP_MEAN)[:, None, None]\n",
    "    unnormalized_image = (unnormalized_image * 255).astype(np.uint8)\n",
    "    unnormalized_image = np.moveaxis(unnormalized_image, 0, -1)\n",
    "    unnormalized_image = Image.fromarray(unnormalized_image)\n",
    "    return unnormalized_image\n",
    "\n",
    "unnormalized_image = get_preprocessed_image(inputs.pixel_values)\n",
    "\n",
    "target_sizes = torch.Tensor([unnormalized_image.size[::-1]])\n",
    "# Convert outputs (bounding boxes and class logits) to final bounding boxes and scores\n",
    "results = processor.post_process_object_detection(\n",
    "    outputs=outputs, threshold=0.2, target_sizes=target_sizes\n",
    ")\n",
    "\n",
    "i = 0  # Retrieve predictions for the first image for the corresponding text queries\n",
    "text = texts[i]\n",
    "boxes, scores, labels = results[i][\"boxes\"], results[i][\"scores\"], results[i][\"labels\"]\n",
    "\n",
    "for box, score, label in zip(boxes, scores, labels):\n",
    "    box = [round(i, 2) for i in box.tolist()]\n",
    "    print(f\"Detected {text[label]} with confidence {round(score.item(), 3)} at location {box}\")\n"
   ]
  }
 ],
 "metadata": {
  "kernelspec": {
   "display_name": "Python 3 (ipykernel)",
   "language": "python",
   "name": "python3"
  },
  "language_info": {
   "codemirror_mode": {
    "name": "ipython",
    "version": 3
   },
   "file_extension": ".py",
   "mimetype": "text/x-python",
   "name": "python",
   "nbconvert_exporter": "python",
   "pygments_lexer": "ipython3",
   "version": "3.11.4"
  }
 },
 "nbformat": 4,
 "nbformat_minor": 5
}
