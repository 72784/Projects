{
 "cells": [
  {
   "cell_type": "code",
   "execution_count": 2,
   "id": "94ca0a39",
   "metadata": {
    "scrolled": true
   },
   "outputs": [
    {
     "name": "stdout",
     "output_type": "stream",
     "text": [
      "                                COMMENT_ID                 AUTHOR  \\\n",
      "194  z12kix1zlmz3fhmhf04cipe5qpvsxrezbpg0k  Cromwell John Pascual   \n",
      "310    z12kx35bmpbiez0kp22qxrrrrzecznnw004        Puppy Lover5614   \n",
      "220    z134d5hbckywylmj404cgnlo3kysfhsjoeg         Kemal Kurtoglu   \n",
      "170    z12ox3a5vviky5ctq22nz1ewpo24wxyis04             JackTheLad   \n",
      "206  z130zp15xof5db0x204cfv55awj1wl3aipc0k            Gianpaolo T   \n",
      "\n",
      "                    DATE                                            CONTENT  \\\n",
      "194  2014-11-07T12:51:06  WAT DA FUCK THIS THE MOST VIEWED VIDEO IN YOUT...   \n",
      "310  2014-11-11T22:48:11  I hav absolutely no idea what he's saying. Is ...   \n",
      "220  2014-11-07T19:33:46  Im a RAPPER/SONGWRITER, check my video PLEASE....   \n",
      "170  2014-11-06T19:00:11        Subscribe to me and I'll subscribe back!!!﻿   \n",
      "206  2014-11-07T15:58:09                                    Wow 23 min ago﻿   \n",
      "\n",
      "     CLASS  \n",
      "194      0  \n",
      "310      0  \n",
      "220      1  \n",
      "170      1  \n",
      "206      0  \n"
     ]
    }
   ],
   "source": [
    "import pandas as pd\n",
    "import numpy as np\n",
    "from sklearn.feature_extraction.text import CountVectorizer\n",
    "from sklearn.model_selection import train_test_split\n",
    "from sklearn.naive_bayes import BernoulliNB\n",
    "\n",
    "data = pd.read_csv(\"Youtube01-Psy.csv\")\n",
    "print(data.sample(5))\n"
   ]
  },
  {
   "cell_type": "code",
   "execution_count": 3,
   "id": "95feaa69",
   "metadata": {},
   "outputs": [
    {
     "name": "stdout",
     "output_type": "stream",
     "text": [
      "                                               CONTENT  CLASS\n",
      "331  Hey come check us out were new on youtube let ...      1\n",
      "140  http://www.gcmforex.com/partners/aw.aspx?Task=...      1\n",
      "115                                      #2012bitches﻿      0\n",
      "280  Most viewed video on youtube...daaaaaaaaaaannn...      0\n",
      "48                      go here to check the views :3﻿      0\n"
     ]
    }
   ],
   "source": [
    "data = data[[\"CONTENT\", \"CLASS\"]]\n",
    "print(data.sample(5))\n",
    "\n"
   ]
  },
  {
   "cell_type": "code",
   "execution_count": 4,
   "id": "d5eeb895",
   "metadata": {
    "scrolled": true
   },
   "outputs": [
    {
     "name": "stdout",
     "output_type": "stream",
     "text": [
      "                                               CONTENT         CLASS\n",
      "131  PSY GOT LOTS  OF MONEY FROM YOUTUBE THAT HE GO...      Not Spam\n",
      "222  Is this the video that started the whole \"got ...      Not Spam\n",
      "309  COME AND CHECK OUT MY NEW YOUTUBE CHHANEL, GOI...  Spam Comment\n",
      "141  check men out i put allot of effort into my mu...  Spam Comment\n",
      "264  If you pause at 1:39 at the last millisecond y...      Not Spam\n"
     ]
    }
   ],
   "source": [
    "data[\"CLASS\"] = data[\"CLASS\"].map({0: \"Not Spam\",\n",
    "                                   1: \"Spam Comment\"})\n",
    "print(data.sample(5))"
   ]
  },
  {
   "cell_type": "code",
   "execution_count": 5,
   "id": "24ff3a9e",
   "metadata": {},
   "outputs": [
    {
     "name": "stdout",
     "output_type": "stream",
     "text": [
      "0.9857142857142858\n"
     ]
    }
   ],
   "source": [
    "x = np.array(data[\"CONTENT\"])\n",
    "y = np.array(data[\"CLASS\"])\n",
    "\n",
    "cv = CountVectorizer()\n",
    "x = cv.fit_transform(x)\n",
    "xtrain, xtest, ytrain, ytest = train_test_split(x, y, \n",
    "                                                test_size=0.2, \n",
    "                                                random_state=42)\n",
    "\n",
    "model = BernoulliNB()\n",
    "model.fit(xtrain, ytrain)\n",
    "print(model.score(xtest, ytest))"
   ]
  },
  {
   "cell_type": "code",
   "execution_count": 6,
   "id": "152791bd",
   "metadata": {
    "scrolled": true
   },
   "outputs": [
    {
     "name": "stdout",
     "output_type": "stream",
     "text": [
      "['Spam Comment']\n"
     ]
    }
   ],
   "source": [
    "sample = \"Check this out: https://thecleverprogrammer.com/\" \n",
    "data = cv.transform([sample]).toarray()\n",
    "print(model.predict(data))"
   ]
  },
  {
   "cell_type": "code",
   "execution_count": 7,
   "id": "8433669d",
   "metadata": {},
   "outputs": [
    {
     "name": "stdout",
     "output_type": "stream",
     "text": [
      "['Not Spam']\n"
     ]
    }
   ],
   "source": [
    "sample = \"Lack of information!\" \n",
    "data = cv.transform([sample]).toarray()\n",
    "print(model.predict(data)) "
   ]
  }
 ],
 "metadata": {
  "kernelspec": {
   "display_name": "Python 3 (ipykernel)",
   "language": "python",
   "name": "python3"
  },
  "language_info": {
   "codemirror_mode": {
    "name": "ipython",
    "version": 3
   },
   "file_extension": ".py",
   "mimetype": "text/x-python",
   "name": "python",
   "nbconvert_exporter": "python",
   "pygments_lexer": "ipython3",
   "version": "3.11.4"
  }
 },
 "nbformat": 4,
 "nbformat_minor": 5
}
